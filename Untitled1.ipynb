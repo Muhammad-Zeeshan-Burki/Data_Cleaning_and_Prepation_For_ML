{
 "cells": [
  {
   "cell_type": "code",
   "execution_count": 2,
   "id": "1b506af1-431d-4831-ae35-cf582e89afa9",
   "metadata": {},
   "outputs": [
    {
     "name": "stdout",
     "output_type": "stream",
     "text": [
      "  DATA ANALYSIS Unnamed: 1 Unnamed: 2 Unnamed: 3 Unnamed: 4\n",
      "0         TABLE        NaN        NaN        NaN        NaN\n",
      "1       QUARTER         Q1         Q2         Q3      T.EXP\n",
      "2      Expense1       1200        950        800       2950\n",
      "3      Expense2       1050       1000        900       2950\n",
      "4      Expence3       1300        920        780       3000\n",
      "5      Expence4       1050       1200       1100       3350\n"
     ]
    },
    {
     "name": "stderr",
     "output_type": "stream",
     "text": [
      "E:\\anaconda\\Lib\\site-packages\\openpyxl\\worksheet\\_read_only.py:81: UserWarning: Unknown extension is not supported and will be removed\n",
      "  for idx, row in parser.parse():\n",
      "E:\\anaconda\\Lib\\site-packages\\openpyxl\\worksheet\\_read_only.py:81: UserWarning: Conditional Formatting extension is not supported and will be removed\n",
      "  for idx, row in parser.parse():\n"
     ]
    }
   ],
   "source": [
    "import pandas as pd \n",
    "data = pd.read_excel(\"Book1.xlsx\")\n",
    "print(data)"
   ]
  },
  {
   "cell_type": "code",
   "execution_count": 4,
   "id": "1b732161-1f44-4a9b-b731-1f0bb34162d5",
   "metadata": {},
   "outputs": [
    {
     "name": "stdout",
     "output_type": "stream",
     "text": [
      "(6, 5)\n"
     ]
    }
   ],
   "source": [
    "print(data.shape)"
   ]
  },
  {
   "cell_type": "code",
   "execution_count": 6,
   "id": "8bcbd741-8fa6-493b-9c0c-6edf4987bb82",
   "metadata": {},
   "outputs": [
    {
     "data": {
      "text/plain": [
       "(6, 5)"
      ]
     },
     "execution_count": 6,
     "metadata": {},
     "output_type": "execute_result"
    }
   ],
   "source": [
    "data.shape"
   ]
  },
  {
   "cell_type": "code",
   "execution_count": 8,
   "id": "7d9e0585-6f09-43da-9ff6-39a3f0845741",
   "metadata": {},
   "outputs": [
    {
     "data": {
      "text/plain": [
       "6"
      ]
     },
     "execution_count": 8,
     "metadata": {},
     "output_type": "execute_result"
    }
   ],
   "source": [
    "data.shape[0]"
   ]
  },
  {
   "cell_type": "code",
   "execution_count": 10,
   "id": "113a7be6-0ca0-47cc-a08d-3ed6a691ab7a",
   "metadata": {},
   "outputs": [
    {
     "data": {
      "text/plain": [
       "5"
      ]
     },
     "execution_count": 10,
     "metadata": {},
     "output_type": "execute_result"
    }
   ],
   "source": [
    "data.shape[1]"
   ]
  },
  {
   "cell_type": "code",
   "execution_count": 12,
   "id": "12ff9949-c31d-4d14-bf89-35a95039e5e5",
   "metadata": {},
   "outputs": [
    {
     "data": {
      "text/plain": [
       "4"
      ]
     },
     "execution_count": 12,
     "metadata": {},
     "output_type": "execute_result"
    }
   ],
   "source": [
    "data.isnull().sum().sum()"
   ]
  },
  {
   "cell_type": "code",
   "execution_count": 14,
   "id": "d09451eb-474f-48b3-bda4-47720def0658",
   "metadata": {},
   "outputs": [
    {
     "data": {
      "text/plain": [
       "DATA ANALYSIS    0\n",
       "Unnamed: 1       1\n",
       "Unnamed: 2       1\n",
       "Unnamed: 3       1\n",
       "Unnamed: 4       1\n",
       "dtype: int64"
      ]
     },
     "execution_count": 14,
     "metadata": {},
     "output_type": "execute_result"
    }
   ],
   "source": [
    "data.isnull().sum()"
   ]
  },
  {
   "cell_type": "code",
   "execution_count": 16,
   "id": "f15b2490-38ae-4422-a326-3b5982d674f0",
   "metadata": {},
   "outputs": [
    {
     "data": {
      "text/plain": [
       "DATA ANALYSIS    0.000000\n",
       "Unnamed: 1       0.000333\n",
       "Unnamed: 2       0.000333\n",
       "Unnamed: 3       0.000333\n",
       "Unnamed: 4       0.000333\n",
       "dtype: float64"
      ]
     },
     "execution_count": 16,
     "metadata": {},
     "output_type": "execute_result"
    }
   ],
   "source": [
    "(data.isnull().sum())/(data.shape[0]*data.shape[1]*100)"
   ]
  },
  {
   "cell_type": "code",
   "execution_count": 18,
   "id": "f6c78344-c368-4013-9f49-79bf23b7f714",
   "metadata": {},
   "outputs": [
    {
     "data": {
      "text/plain": [
       "0.0013333333333333333"
      ]
     },
     "execution_count": 18,
     "metadata": {},
     "output_type": "execute_result"
    }
   ],
   "source": [
    "(data.isnull().sum().sum())/(data.shape[0]*data.shape[1]*100)"
   ]
  },
  {
   "cell_type": "code",
   "execution_count": 20,
   "id": "6c463677-60f4-4f04-9e79-c6a3c47ef920",
   "metadata": {},
   "outputs": [
    {
     "name": "stdout",
     "output_type": "stream",
     "text": [
      "  DATA ANALYSIS Unnamed: 1 Unnamed: 2 Unnamed: 3 Unnamed: 4\n",
      "0         TABLE        NaN        NaN        NaN        NaN\n",
      "1       QUARTER         Q1         Q2         Q3      T.EXP\n",
      "2      Expense1       1200        950        800       2950\n",
      "3      Expense2       1050       1000        900       2950\n",
      "4      Expence3       1300        920        780       3000\n",
      "5      Expence4       1050       1200       1100       3350\n"
     ]
    },
    {
     "name": "stderr",
     "output_type": "stream",
     "text": [
      "E:\\anaconda\\Lib\\site-packages\\openpyxl\\worksheet\\_read_only.py:81: UserWarning: Unknown extension is not supported and will be removed\n",
      "  for idx, row in parser.parse():\n",
      "E:\\anaconda\\Lib\\site-packages\\openpyxl\\worksheet\\_read_only.py:81: UserWarning: Conditional Formatting extension is not supported and will be removed\n",
      "  for idx, row in parser.parse():\n"
     ]
    }
   ],
   "source": [
    "import pandas as pd \n",
    "data = pd.read_excel(\"Book1.xlsx\")\n",
    "print(data.to_string())\n"
   ]
  },
  {
   "cell_type": "code",
   "execution_count": 24,
   "id": "06131897-3c58-42b3-ac5b-7fa16a33f8c6",
   "metadata": {},
   "outputs": [
    {
     "name": "stdout",
     "output_type": "stream",
     "text": [
      "       EEID        Full Name                 Job Title  Department  \\\n",
      "0    E02387      Emily Davis                Sr. Manger          IT   \n",
      "1    E04105    Theodore Dinh       Technical Architect          IT   \n",
      "2    E02572     Luna Sanders                  Director     Finance   \n",
      "3    E02832  Penelope Jordan  Computer Systems Manager          IT   \n",
      "4    E01639        Austin Vo               Sr. Analyst     Finance   \n",
      "..      ...              ...                       ...         ...   \n",
      "995  E03094     Wesley Young               Sr. Analyst   Marketing   \n",
      "996  E01909     Lillian Khan                   Analyst     Finance   \n",
      "997  E04398      Oliver Yang                  Director   Marketing   \n",
      "998  E02521      Lily Nguyen               Sr. Analyst     Finance   \n",
      "999  E03545      Sofia Cheng            Vice President  Accounting   \n",
      "\n",
      "              Business Unit  Gender  Ethnicity  Age   Hire Date Annual Salary  \\\n",
      "0    Research & Development  Female      Black   55    4/8/2016     $141,604    \n",
      "1             Manufacturing    Male      Asian   59  11/29/1997      $99,975    \n",
      "2       Speciality Products  Female  Caucasian   50  10/26/2006     $163,099    \n",
      "3             Manufacturing  Female  Caucasian   26   9/27/2019      $84,913    \n",
      "4             Manufacturing    Male      Asian   55  11/20/1995      $95,409    \n",
      "..                      ...     ...        ...  ...         ...           ...   \n",
      "995     Speciality Products    Male  Caucasian   33   9/18/2016      $98,427    \n",
      "996     Speciality Products  Female      Asian   44   5/31/2010      $47,387    \n",
      "997     Speciality Products    Male      Asian   31   6/10/2019     $176,710    \n",
      "998     Speciality Products  Female      Asian   33   1/28/2012      $95,960    \n",
      "999               Corporate  Female      Asian   63   7/26/2020     $216,195    \n",
      "\n",
      "    Bonus %        Country       City   Exit Date  \n",
      "0      15%   United States    Seattle  10/16/2021  \n",
      "1       0%           China  Chongqing         NaN  \n",
      "2      20%   United States    Chicago         NaN  \n",
      "3       7%   United States    Chicago         NaN  \n",
      "4       0%   United States    Phoenix         NaN  \n",
      "..      ...            ...        ...         ...  \n",
      "995     0%   United States   Columbus         NaN  \n",
      "996     0%           China    Chengdu    1/8/2018  \n",
      "997    15%   United States      Miami         NaN  \n",
      "998     0%           China    Chengdu         NaN  \n",
      "999    31%   United States      Miami         NaN  \n",
      "\n",
      "[1000 rows x 14 columns]\n"
     ]
    }
   ],
   "source": [
    "import pandas as pd\n",
    "\n",
    "# Try using a different encoding\n",
    "data = pd.read_csv(\"Employee Sample Data.csv\", encoding='ISO-8859-1')\n",
    "print(data)"
   ]
  },
  {
   "cell_type": "code",
   "execution_count": 26,
   "id": "80efea37-b3f4-4b45-ba7e-6dae8403afc2",
   "metadata": {},
   "outputs": [
    {
     "data": {
      "text/html": [
       "<div>\n",
       "<style scoped>\n",
       "    .dataframe tbody tr th:only-of-type {\n",
       "        vertical-align: middle;\n",
       "    }\n",
       "\n",
       "    .dataframe tbody tr th {\n",
       "        vertical-align: top;\n",
       "    }\n",
       "\n",
       "    .dataframe thead th {\n",
       "        text-align: right;\n",
       "    }\n",
       "</style>\n",
       "<table border=\"1\" class=\"dataframe\">\n",
       "  <thead>\n",
       "    <tr style=\"text-align: right;\">\n",
       "      <th></th>\n",
       "      <th>EEID</th>\n",
       "      <th>Full Name</th>\n",
       "      <th>Job Title</th>\n",
       "      <th>Department</th>\n",
       "      <th>Business Unit</th>\n",
       "      <th>Gender</th>\n",
       "      <th>Ethnicity</th>\n",
       "      <th>Age</th>\n",
       "      <th>Hire Date</th>\n",
       "      <th>Annual Salary</th>\n",
       "      <th>Bonus %</th>\n",
       "      <th>Country</th>\n",
       "      <th>City</th>\n",
       "      <th>Exit Date</th>\n",
       "    </tr>\n",
       "  </thead>\n",
       "  <tbody>\n",
       "    <tr>\n",
       "      <th>0</th>\n",
       "      <td>False</td>\n",
       "      <td>False</td>\n",
       "      <td>False</td>\n",
       "      <td>False</td>\n",
       "      <td>False</td>\n",
       "      <td>False</td>\n",
       "      <td>False</td>\n",
       "      <td>False</td>\n",
       "      <td>False</td>\n",
       "      <td>False</td>\n",
       "      <td>False</td>\n",
       "      <td>False</td>\n",
       "      <td>False</td>\n",
       "      <td>False</td>\n",
       "    </tr>\n",
       "    <tr>\n",
       "      <th>1</th>\n",
       "      <td>False</td>\n",
       "      <td>False</td>\n",
       "      <td>False</td>\n",
       "      <td>False</td>\n",
       "      <td>False</td>\n",
       "      <td>False</td>\n",
       "      <td>False</td>\n",
       "      <td>False</td>\n",
       "      <td>False</td>\n",
       "      <td>False</td>\n",
       "      <td>False</td>\n",
       "      <td>False</td>\n",
       "      <td>False</td>\n",
       "      <td>True</td>\n",
       "    </tr>\n",
       "    <tr>\n",
       "      <th>2</th>\n",
       "      <td>False</td>\n",
       "      <td>False</td>\n",
       "      <td>False</td>\n",
       "      <td>False</td>\n",
       "      <td>False</td>\n",
       "      <td>False</td>\n",
       "      <td>False</td>\n",
       "      <td>False</td>\n",
       "      <td>False</td>\n",
       "      <td>False</td>\n",
       "      <td>False</td>\n",
       "      <td>False</td>\n",
       "      <td>False</td>\n",
       "      <td>True</td>\n",
       "    </tr>\n",
       "    <tr>\n",
       "      <th>3</th>\n",
       "      <td>False</td>\n",
       "      <td>False</td>\n",
       "      <td>False</td>\n",
       "      <td>False</td>\n",
       "      <td>False</td>\n",
       "      <td>False</td>\n",
       "      <td>False</td>\n",
       "      <td>False</td>\n",
       "      <td>False</td>\n",
       "      <td>False</td>\n",
       "      <td>False</td>\n",
       "      <td>False</td>\n",
       "      <td>False</td>\n",
       "      <td>True</td>\n",
       "    </tr>\n",
       "    <tr>\n",
       "      <th>4</th>\n",
       "      <td>False</td>\n",
       "      <td>False</td>\n",
       "      <td>False</td>\n",
       "      <td>False</td>\n",
       "      <td>False</td>\n",
       "      <td>False</td>\n",
       "      <td>False</td>\n",
       "      <td>False</td>\n",
       "      <td>False</td>\n",
       "      <td>False</td>\n",
       "      <td>False</td>\n",
       "      <td>False</td>\n",
       "      <td>False</td>\n",
       "      <td>True</td>\n",
       "    </tr>\n",
       "    <tr>\n",
       "      <th>...</th>\n",
       "      <td>...</td>\n",
       "      <td>...</td>\n",
       "      <td>...</td>\n",
       "      <td>...</td>\n",
       "      <td>...</td>\n",
       "      <td>...</td>\n",
       "      <td>...</td>\n",
       "      <td>...</td>\n",
       "      <td>...</td>\n",
       "      <td>...</td>\n",
       "      <td>...</td>\n",
       "      <td>...</td>\n",
       "      <td>...</td>\n",
       "      <td>...</td>\n",
       "    </tr>\n",
       "    <tr>\n",
       "      <th>995</th>\n",
       "      <td>False</td>\n",
       "      <td>False</td>\n",
       "      <td>False</td>\n",
       "      <td>False</td>\n",
       "      <td>False</td>\n",
       "      <td>False</td>\n",
       "      <td>False</td>\n",
       "      <td>False</td>\n",
       "      <td>False</td>\n",
       "      <td>False</td>\n",
       "      <td>False</td>\n",
       "      <td>False</td>\n",
       "      <td>False</td>\n",
       "      <td>True</td>\n",
       "    </tr>\n",
       "    <tr>\n",
       "      <th>996</th>\n",
       "      <td>False</td>\n",
       "      <td>False</td>\n",
       "      <td>False</td>\n",
       "      <td>False</td>\n",
       "      <td>False</td>\n",
       "      <td>False</td>\n",
       "      <td>False</td>\n",
       "      <td>False</td>\n",
       "      <td>False</td>\n",
       "      <td>False</td>\n",
       "      <td>False</td>\n",
       "      <td>False</td>\n",
       "      <td>False</td>\n",
       "      <td>False</td>\n",
       "    </tr>\n",
       "    <tr>\n",
       "      <th>997</th>\n",
       "      <td>False</td>\n",
       "      <td>False</td>\n",
       "      <td>False</td>\n",
       "      <td>False</td>\n",
       "      <td>False</td>\n",
       "      <td>False</td>\n",
       "      <td>False</td>\n",
       "      <td>False</td>\n",
       "      <td>False</td>\n",
       "      <td>False</td>\n",
       "      <td>False</td>\n",
       "      <td>False</td>\n",
       "      <td>False</td>\n",
       "      <td>True</td>\n",
       "    </tr>\n",
       "    <tr>\n",
       "      <th>998</th>\n",
       "      <td>False</td>\n",
       "      <td>False</td>\n",
       "      <td>False</td>\n",
       "      <td>False</td>\n",
       "      <td>False</td>\n",
       "      <td>False</td>\n",
       "      <td>False</td>\n",
       "      <td>False</td>\n",
       "      <td>False</td>\n",
       "      <td>False</td>\n",
       "      <td>False</td>\n",
       "      <td>False</td>\n",
       "      <td>False</td>\n",
       "      <td>True</td>\n",
       "    </tr>\n",
       "    <tr>\n",
       "      <th>999</th>\n",
       "      <td>False</td>\n",
       "      <td>False</td>\n",
       "      <td>False</td>\n",
       "      <td>False</td>\n",
       "      <td>False</td>\n",
       "      <td>False</td>\n",
       "      <td>False</td>\n",
       "      <td>False</td>\n",
       "      <td>False</td>\n",
       "      <td>False</td>\n",
       "      <td>False</td>\n",
       "      <td>False</td>\n",
       "      <td>False</td>\n",
       "      <td>True</td>\n",
       "    </tr>\n",
       "  </tbody>\n",
       "</table>\n",
       "<p>1000 rows × 14 columns</p>\n",
       "</div>"
      ],
      "text/plain": [
       "      EEID  Full Name  Job Title  Department  Business Unit  Gender  \\\n",
       "0    False      False      False       False          False   False   \n",
       "1    False      False      False       False          False   False   \n",
       "2    False      False      False       False          False   False   \n",
       "3    False      False      False       False          False   False   \n",
       "4    False      False      False       False          False   False   \n",
       "..     ...        ...        ...         ...            ...     ...   \n",
       "995  False      False      False       False          False   False   \n",
       "996  False      False      False       False          False   False   \n",
       "997  False      False      False       False          False   False   \n",
       "998  False      False      False       False          False   False   \n",
       "999  False      False      False       False          False   False   \n",
       "\n",
       "     Ethnicity    Age  Hire Date  Annual Salary  Bonus %  Country   City  \\\n",
       "0        False  False      False          False    False    False  False   \n",
       "1        False  False      False          False    False    False  False   \n",
       "2        False  False      False          False    False    False  False   \n",
       "3        False  False      False          False    False    False  False   \n",
       "4        False  False      False          False    False    False  False   \n",
       "..         ...    ...        ...            ...      ...      ...    ...   \n",
       "995      False  False      False          False    False    False  False   \n",
       "996      False  False      False          False    False    False  False   \n",
       "997      False  False      False          False    False    False  False   \n",
       "998      False  False      False          False    False    False  False   \n",
       "999      False  False      False          False    False    False  False   \n",
       "\n",
       "     Exit Date  \n",
       "0        False  \n",
       "1         True  \n",
       "2         True  \n",
       "3         True  \n",
       "4         True  \n",
       "..         ...  \n",
       "995       True  \n",
       "996      False  \n",
       "997       True  \n",
       "998       True  \n",
       "999       True  \n",
       "\n",
       "[1000 rows x 14 columns]"
      ]
     },
     "execution_count": 26,
     "metadata": {},
     "output_type": "execute_result"
    }
   ],
   "source": [
    "data.isnull()\n"
   ]
  },
  {
   "cell_type": "code",
   "execution_count": 30,
   "id": "228cda21-d445-40ed-ad71-8d43b2680d3a",
   "metadata": {},
   "outputs": [
    {
     "data": {
      "text/plain": [
       "EEID               0\n",
       "Full Name          0\n",
       "Job Title          0\n",
       "Department         0\n",
       "Business Unit      0\n",
       "Gender             0\n",
       "Ethnicity          0\n",
       "Age                0\n",
       "Hire Date          0\n",
       "Annual Salary      0\n",
       "Bonus %            0\n",
       "Country            0\n",
       "City               0\n",
       "Exit Date        915\n",
       "dtype: int64"
      ]
     },
     "execution_count": 30,
     "metadata": {},
     "output_type": "execute_result"
    }
   ],
   "source": [
    "data.isnull().sum()"
   ]
  },
  {
   "cell_type": "code",
   "execution_count": 28,
   "id": "709000c8-5a60-414f-bf03-230bfa29291f",
   "metadata": {},
   "outputs": [
    {
     "data": {
      "text/plain": [
       "915"
      ]
     },
     "execution_count": 28,
     "metadata": {},
     "output_type": "execute_result"
    }
   ],
   "source": [
    "data.isnull().sum().sum()"
   ]
  },
  {
   "cell_type": "code",
   "execution_count": 46,
   "id": "087933b2-6aa9-44e3-b24f-095f817e5368",
   "metadata": {},
   "outputs": [
    {
     "data": {
      "text/plain": [
       "6.5357142857142865"
      ]
     },
     "execution_count": 46,
     "metadata": {},
     "output_type": "execute_result"
    }
   ],
   "source": [
    "(data.isnull().sum().sum())/(data.shape[0]*data.shape[1])*100"
   ]
  },
  {
   "cell_type": "code",
   "execution_count": 36,
   "id": "ca396400-f05e-41c9-9bc1-f0550a88fa05",
   "metadata": {},
   "outputs": [
    {
     "data": {
      "text/plain": [
       "915"
      ]
     },
     "execution_count": 36,
     "metadata": {},
     "output_type": "execute_result"
    }
   ],
   "source": [
    "data.isnull().sum().sum()"
   ]
  },
  {
   "cell_type": "code",
   "execution_count": 38,
   "id": "6295577e-1681-46d2-bf82-40216bdff429",
   "metadata": {},
   "outputs": [
    {
     "data": {
      "text/plain": [
       "(1000, 14)"
      ]
     },
     "execution_count": 38,
     "metadata": {},
     "output_type": "execute_result"
    }
   ],
   "source": [
    "data.shape"
   ]
  },
  {
   "cell_type": "code",
   "execution_count": 48,
   "id": "26bc5bd8-6e3d-4cac-8605-14e4f62402c3",
   "metadata": {},
   "outputs": [
    {
     "ename": "TypeError",
     "evalue": "DataFrame.dropna() takes 1 positional argument but 2 were given",
     "output_type": "error",
     "traceback": [
      "\u001b[1;31m---------------------------------------------------------------------------\u001b[0m",
      "\u001b[1;31mTypeError\u001b[0m                                 Traceback (most recent call last)",
      "Cell \u001b[1;32mIn[48], line 1\u001b[0m\n\u001b[1;32m----> 1\u001b[0m data\u001b[38;5;241m.\u001b[39mdropna(\u001b[38;5;124m\"\u001b[39m\u001b[38;5;124mExit Date\u001b[39m\u001b[38;5;124m\"\u001b[39m)\n",
      "\u001b[1;31mTypeError\u001b[0m: DataFrame.dropna() takes 1 positional argument but 2 were given"
     ]
    }
   ],
   "source": [
    "data.dropna(\"Exit Date\")"
   ]
  },
  {
   "cell_type": "code",
   "execution_count": 54,
   "id": "bc458975-6d7d-4247-9633-50605cf1aeb2",
   "metadata": {},
   "outputs": [],
   "source": [
    " data.dropna(subset=[\"Exit Date\"],inplace=True)\n",
    "\n"
   ]
  },
  {
   "cell_type": "code",
   "execution_count": 56,
   "id": "3de2a856-975d-4abb-8c35-8dc3b5e2853b",
   "metadata": {},
   "outputs": [
    {
     "data": {
      "text/html": [
       "<div>\n",
       "<style scoped>\n",
       "    .dataframe tbody tr th:only-of-type {\n",
       "        vertical-align: middle;\n",
       "    }\n",
       "\n",
       "    .dataframe tbody tr th {\n",
       "        vertical-align: top;\n",
       "    }\n",
       "\n",
       "    .dataframe thead th {\n",
       "        text-align: right;\n",
       "    }\n",
       "</style>\n",
       "<table border=\"1\" class=\"dataframe\">\n",
       "  <thead>\n",
       "    <tr style=\"text-align: right;\">\n",
       "      <th></th>\n",
       "      <th>EEID</th>\n",
       "      <th>Full Name</th>\n",
       "      <th>Job Title</th>\n",
       "      <th>Department</th>\n",
       "      <th>Business Unit</th>\n",
       "      <th>Gender</th>\n",
       "      <th>Ethnicity</th>\n",
       "      <th>Age</th>\n",
       "      <th>Hire Date</th>\n",
       "      <th>Annual Salary</th>\n",
       "      <th>Bonus %</th>\n",
       "      <th>Country</th>\n",
       "      <th>City</th>\n",
       "      <th>Exit Date</th>\n",
       "    </tr>\n",
       "  </thead>\n",
       "  <tbody>\n",
       "    <tr>\n",
       "      <th>0</th>\n",
       "      <td>E02387</td>\n",
       "      <td>Emily Davis</td>\n",
       "      <td>Sr. Manger</td>\n",
       "      <td>IT</td>\n",
       "      <td>Research &amp; Development</td>\n",
       "      <td>Female</td>\n",
       "      <td>Black</td>\n",
       "      <td>55</td>\n",
       "      <td>4/8/2016</td>\n",
       "      <td>$141,604</td>\n",
       "      <td>15%</td>\n",
       "      <td>United States</td>\n",
       "      <td>Seattle</td>\n",
       "      <td>10/16/2021</td>\n",
       "    </tr>\n",
       "    <tr>\n",
       "      <th>7</th>\n",
       "      <td>E04332</td>\n",
       "      <td>Luke Martin</td>\n",
       "      <td>Analyst</td>\n",
       "      <td>Finance</td>\n",
       "      <td>Manufacturing</td>\n",
       "      <td>Male</td>\n",
       "      <td>Black</td>\n",
       "      <td>25</td>\n",
       "      <td>5/16/2020</td>\n",
       "      <td>$41,336</td>\n",
       "      <td>0%</td>\n",
       "      <td>United States</td>\n",
       "      <td>Miami</td>\n",
       "      <td>5/20/2021</td>\n",
       "    </tr>\n",
       "    <tr>\n",
       "      <th>14</th>\n",
       "      <td>E03496</td>\n",
       "      <td>Robert Yang</td>\n",
       "      <td>Sr. Analyst</td>\n",
       "      <td>Accounting</td>\n",
       "      <td>Speciality Products</td>\n",
       "      <td>Male</td>\n",
       "      <td>Asian</td>\n",
       "      <td>31</td>\n",
       "      <td>11/4/2017</td>\n",
       "      <td>$97,078</td>\n",
       "      <td>0%</td>\n",
       "      <td>United States</td>\n",
       "      <td>Austin</td>\n",
       "      <td>3/9/2020</td>\n",
       "    </tr>\n",
       "    <tr>\n",
       "      <th>40</th>\n",
       "      <td>E01754</td>\n",
       "      <td>Owen Lam</td>\n",
       "      <td>Sr. Business Partner</td>\n",
       "      <td>Human Resources</td>\n",
       "      <td>Speciality Products</td>\n",
       "      <td>Male</td>\n",
       "      <td>Asian</td>\n",
       "      <td>30</td>\n",
       "      <td>5/29/2017</td>\n",
       "      <td>$86,317</td>\n",
       "      <td>0%</td>\n",
       "      <td>China</td>\n",
       "      <td>Chengdu</td>\n",
       "      <td>7/16/2017</td>\n",
       "    </tr>\n",
       "    <tr>\n",
       "      <th>61</th>\n",
       "      <td>E00502</td>\n",
       "      <td>Natalia Salazar</td>\n",
       "      <td>Sr. Analyst</td>\n",
       "      <td>Accounting</td>\n",
       "      <td>Manufacturing</td>\n",
       "      <td>Female</td>\n",
       "      <td>Latino</td>\n",
       "      <td>44</td>\n",
       "      <td>1/2/2019</td>\n",
       "      <td>$74,691</td>\n",
       "      <td>0%</td>\n",
       "      <td>Brazil</td>\n",
       "      <td>Manaus</td>\n",
       "      <td>7/8/2020</td>\n",
       "    </tr>\n",
       "    <tr>\n",
       "      <th>...</th>\n",
       "      <td>...</td>\n",
       "      <td>...</td>\n",
       "      <td>...</td>\n",
       "      <td>...</td>\n",
       "      <td>...</td>\n",
       "      <td>...</td>\n",
       "      <td>...</td>\n",
       "      <td>...</td>\n",
       "      <td>...</td>\n",
       "      <td>...</td>\n",
       "      <td>...</td>\n",
       "      <td>...</td>\n",
       "      <td>...</td>\n",
       "      <td>...</td>\n",
       "    </tr>\n",
       "    <tr>\n",
       "      <th>963</th>\n",
       "      <td>E03305</td>\n",
       "      <td>Cooper Jiang</td>\n",
       "      <td>Analyst II</td>\n",
       "      <td>Accounting</td>\n",
       "      <td>Corporate</td>\n",
       "      <td>Male</td>\n",
       "      <td>Asian</td>\n",
       "      <td>49</td>\n",
       "      <td>7/25/2019</td>\n",
       "      <td>$50,883</td>\n",
       "      <td>0%</td>\n",
       "      <td>China</td>\n",
       "      <td>Chongqing</td>\n",
       "      <td>3/2/2021</td>\n",
       "    </tr>\n",
       "    <tr>\n",
       "      <th>982</th>\n",
       "      <td>E03247</td>\n",
       "      <td>Aaliyah Mai</td>\n",
       "      <td>Vice President</td>\n",
       "      <td>IT</td>\n",
       "      <td>Speciality Products</td>\n",
       "      <td>Female</td>\n",
       "      <td>Asian</td>\n",
       "      <td>57</td>\n",
       "      <td>11/11/2016</td>\n",
       "      <td>$246,589</td>\n",
       "      <td>33%</td>\n",
       "      <td>United States</td>\n",
       "      <td>Phoenix</td>\n",
       "      <td>3/26/2017</td>\n",
       "    </tr>\n",
       "    <tr>\n",
       "      <th>983</th>\n",
       "      <td>E02703</td>\n",
       "      <td>Austin Vang</td>\n",
       "      <td>Manager</td>\n",
       "      <td>Marketing</td>\n",
       "      <td>Speciality Products</td>\n",
       "      <td>Male</td>\n",
       "      <td>Asian</td>\n",
       "      <td>49</td>\n",
       "      <td>5/20/2018</td>\n",
       "      <td>$119,397</td>\n",
       "      <td>9%</td>\n",
       "      <td>China</td>\n",
       "      <td>Beijing</td>\n",
       "      <td>3/14/2019</td>\n",
       "    </tr>\n",
       "    <tr>\n",
       "      <th>991</th>\n",
       "      <td>E03430</td>\n",
       "      <td>Leo Herrera</td>\n",
       "      <td>Sr. Business Partner</td>\n",
       "      <td>Human Resources</td>\n",
       "      <td>Research &amp; Development</td>\n",
       "      <td>Male</td>\n",
       "      <td>Latino</td>\n",
       "      <td>48</td>\n",
       "      <td>4/22/1998</td>\n",
       "      <td>$85,369</td>\n",
       "      <td>0%</td>\n",
       "      <td>Brazil</td>\n",
       "      <td>Manaus</td>\n",
       "      <td>11/27/2004</td>\n",
       "    </tr>\n",
       "    <tr>\n",
       "      <th>996</th>\n",
       "      <td>E01909</td>\n",
       "      <td>Lillian Khan</td>\n",
       "      <td>Analyst</td>\n",
       "      <td>Finance</td>\n",
       "      <td>Speciality Products</td>\n",
       "      <td>Female</td>\n",
       "      <td>Asian</td>\n",
       "      <td>44</td>\n",
       "      <td>5/31/2010</td>\n",
       "      <td>$47,387</td>\n",
       "      <td>0%</td>\n",
       "      <td>China</td>\n",
       "      <td>Chengdu</td>\n",
       "      <td>1/8/2018</td>\n",
       "    </tr>\n",
       "  </tbody>\n",
       "</table>\n",
       "<p>85 rows × 14 columns</p>\n",
       "</div>"
      ],
      "text/plain": [
       "       EEID        Full Name             Job Title       Department  \\\n",
       "0    E02387      Emily Davis            Sr. Manger               IT   \n",
       "7    E04332      Luke Martin               Analyst          Finance   \n",
       "14   E03496      Robert Yang           Sr. Analyst       Accounting   \n",
       "40   E01754         Owen Lam  Sr. Business Partner  Human Resources   \n",
       "61   E00502  Natalia Salazar           Sr. Analyst       Accounting   \n",
       "..      ...              ...                   ...              ...   \n",
       "963  E03305     Cooper Jiang            Analyst II       Accounting   \n",
       "982  E03247      Aaliyah Mai        Vice President               IT   \n",
       "983  E02703      Austin Vang               Manager        Marketing   \n",
       "991  E03430      Leo Herrera  Sr. Business Partner  Human Resources   \n",
       "996  E01909     Lillian Khan               Analyst          Finance   \n",
       "\n",
       "              Business Unit  Gender Ethnicity  Age   Hire Date Annual Salary  \\\n",
       "0    Research & Development  Female     Black   55    4/8/2016     $141,604    \n",
       "7             Manufacturing    Male     Black   25   5/16/2020      $41,336    \n",
       "14      Speciality Products    Male     Asian   31   11/4/2017      $97,078    \n",
       "40      Speciality Products    Male     Asian   30   5/29/2017      $86,317    \n",
       "61            Manufacturing  Female    Latino   44    1/2/2019      $74,691    \n",
       "..                      ...     ...       ...  ...         ...           ...   \n",
       "963               Corporate    Male     Asian   49   7/25/2019      $50,883    \n",
       "982     Speciality Products  Female     Asian   57  11/11/2016     $246,589    \n",
       "983     Speciality Products    Male     Asian   49   5/20/2018     $119,397    \n",
       "991  Research & Development    Male    Latino   48   4/22/1998      $85,369    \n",
       "996     Speciality Products  Female     Asian   44   5/31/2010      $47,387    \n",
       "\n",
       "    Bonus %        Country       City   Exit Date  \n",
       "0      15%   United States    Seattle  10/16/2021  \n",
       "7       0%   United States      Miami   5/20/2021  \n",
       "14      0%   United States     Austin    3/9/2020  \n",
       "40      0%           China    Chengdu   7/16/2017  \n",
       "61      0%          Brazil     Manaus    7/8/2020  \n",
       "..      ...            ...        ...         ...  \n",
       "963     0%           China  Chongqing    3/2/2021  \n",
       "982    33%   United States    Phoenix   3/26/2017  \n",
       "983     9%           China    Beijing   3/14/2019  \n",
       "991     0%          Brazil     Manaus  11/27/2004  \n",
       "996     0%           China    Chengdu    1/8/2018  \n",
       "\n",
       "[85 rows x 14 columns]"
      ]
     },
     "execution_count": 56,
     "metadata": {},
     "output_type": "execute_result"
    }
   ],
   "source": [
    "data"
   ]
  },
  {
   "cell_type": "code",
   "execution_count": null,
   "id": "eea6272a-33e7-4066-8f14-5f4120d9641d",
   "metadata": {},
   "outputs": [],
   "source": []
  }
 ],
 "metadata": {
  "kernelspec": {
   "display_name": "Python 3 (ipykernel)",
   "language": "python",
   "name": "python3"
  },
  "language_info": {
   "codemirror_mode": {
    "name": "ipython",
    "version": 3
   },
   "file_extension": ".py",
   "mimetype": "text/x-python",
   "name": "python",
   "nbconvert_exporter": "python",
   "pygments_lexer": "ipython3",
   "version": "3.12.4"
  }
 },
 "nbformat": 4,
 "nbformat_minor": 5
}
